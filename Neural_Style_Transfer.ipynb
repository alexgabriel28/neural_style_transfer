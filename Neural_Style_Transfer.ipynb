{
  "nbformat": 4,
  "nbformat_minor": 0,
  "metadata": {
    "colab": {
      "name": "Neural_Style_Transfer.ipynb",
      "provenance": [],
      "collapsed_sections": [],
      "machine_shape": "hm",
      "authorship_tag": "ABX9TyMtHp3rdAAOHJtU2SWDNSGW",
      "include_colab_link": true
    },
    "kernelspec": {
      "name": "python3",
      "display_name": "Python 3"
    },
    "language_info": {
      "name": "python"
    },
    "accelerator": "GPU"
  },
  "cells": [
    {
      "cell_type": "markdown",
      "metadata": {
        "id": "view-in-github",
        "colab_type": "text"
      },
      "source": [
        "<a href=\"https://colab.research.google.com/github/alexgabriel28/neural_style_transfer/blob/main/Neural_Style_Transfer.ipynb\" target=\"_parent\"><img src=\"https://colab.research.google.com/assets/colab-badge.svg\" alt=\"Open In Colab\"/></a>"
      ]
    },
    {
      "cell_type": "markdown",
      "source": [
        "The following notebook is mostly adapted from the great book \"Deep Learning with Python\", by Francois Chollet"
      ],
      "metadata": {
        "id": "wRmgzqE705z5"
      }
    },
    {
      "cell_type": "code",
      "execution_count": null,
      "metadata": {
        "id": "Nd8OUJrjRkBg"
      },
      "outputs": [],
      "source": [
        "import tensorflow as tf\n",
        "import keras\n",
        "import numpy as np\n",
        "import matplotlib.pyplot as plt\n",
        "import os\n",
        "import shutil\n",
        "import random\n",
        "from PIL import Image\n",
        "\n",
        "from google.colab import drive"
      ]
    },
    {
      "cell_type": "code",
      "source": [
        "drive.mount(\"/content/drive\") "
      ],
      "metadata": {
        "colab": {
          "base_uri": "https://localhost:8080/"
        },
        "id": "kusbWs-W8mxw",
        "outputId": "1f06e757-9590-462a-b4ea-2dae4a9a217e"
      },
      "execution_count": null,
      "outputs": [
        {
          "output_type": "stream",
          "name": "stdout",
          "text": [
            "Drive already mounted at /content/drive; to attempt to forcibly remount, call drive.mount(\"/content/drive\", force_remount=True).\n"
          ]
        }
      ]
    },
    {
      "cell_type": "code",
      "source": [
        "def preprocess_img(img_path):\n",
        "  img = tf.keras.utils.load_img(img_path, target_size = (img_height, img_width))\n",
        "  img = tf.keras.utils.img_to_array(img)\n",
        "  img = np.expand_dims(img, axis = 0)\n",
        "  img = keras.applications.vgg19.preprocess_input(img)\n",
        "  return img\n",
        "\n",
        "def deprocess_img(img):\n",
        "  img = img.reshape((img_height, img_width, 3))\n",
        "  img[:,:,0] += 103.939\n",
        "  img[:,:,1] += 116.779\n",
        "  img[:,:,2] += 123.68\n",
        "  img = img[:,:,::-1]\n",
        "  img = np.clip(img, 0, 255).astype(\"uint8\")\n",
        "  return img"
      ],
      "metadata": {
        "id": "Qj3ItT4_RrMt"
      },
      "execution_count": null,
      "outputs": []
    },
    {
      "cell_type": "code",
      "source": [
        "model = keras.applications.vgg19.VGG19(weights = \"imagenet\", include_top = False)\n",
        "outputs_dict = dict([(layer.name, layer.output) for layer in model.layers])\n",
        "feature_extractor = keras.Model(inputs=model.inputs, outputs = outputs_dict)"
      ],
      "metadata": {
        "id": "QuJcIDWaywEy"
      },
      "execution_count": null,
      "outputs": []
    },
    {
      "cell_type": "code",
      "source": [
        "def content_loss(base_img, combination_img):\n",
        "  return tf.reduce_sum(tf.square(combination_img - base_img))"
      ],
      "metadata": {
        "id": "z3Yfw14QzhRm"
      },
      "execution_count": null,
      "outputs": []
    },
    {
      "cell_type": "code",
      "source": [
        "def gram_matrix(x):\n",
        "  x = tf.transpose(x, (2,0,1))\n",
        "  features = tf.reshape(x, (tf.shape(x)[0], -1))\n",
        "  gram = tf.matmul(features, tf.transpose(features))\n",
        "  return gram\n",
        "\n",
        "def style_loss(style_img, combination_img):\n",
        "  S = gram_matrix(style_img)\n",
        "  C = gram_matrix(combination_img)\n",
        "  channels = 3\n",
        "  size = img_height * img_width\n",
        "  return tf.reduce_sum(tf.square(S - C)) / (4.0 * ( channels ** 2) * (size ** 2))"
      ],
      "metadata": {
        "id": "3yO0t3jhzr6_"
      },
      "execution_count": null,
      "outputs": []
    },
    {
      "cell_type": "code",
      "source": [
        "def total_variation_loss(x):\n",
        "  a = tf.square(x[:, :img_height-1, :img_width-1, :] - x[:, 1:, :img_width-1, :])\n",
        "  b = tf.square(x[:, :img_height-1, :img_width-1, :] - x[:, :img_height-1, 1:, :])\n",
        "  return tf.reduce_sum(tf.pow(a+b, 1.25))"
      ],
      "metadata": {
        "id": "Vf6N_oqH09tU"
      },
      "execution_count": null,
      "outputs": []
    },
    {
      "cell_type": "code",
      "source": [
        "style_layer_names = [\"block1_conv1\", \"block2_conv1\", \"block3_conv1\", \"block4_conv1\", \"block5_conv1\"]\n",
        "content_layer_name = \"block5_conv2\"\n",
        "\n",
        "total_variation_weight = 1e-6\n",
        "style_weight = 1e-5\n",
        "content_weight = 7.5e-8"
      ],
      "metadata": {
        "id": "NgF0s9n-16G6"
      },
      "execution_count": null,
      "outputs": []
    },
    {
      "cell_type": "code",
      "source": [
        "def compute_loss(combination_image, base_image, style_reference_image):\n",
        "  input_tensor = tf.concat([base_image, style_reference_image, combination_image], axis = 0)\n",
        "  features = feature_extractor(input_tensor)\n",
        "  loss = tf.zeros(shape = ())\n",
        "  layer_features = features[content_layer_name]\n",
        "  base_image_features = layer_features[0, :, :, :]\n",
        "  combination_features = layer_features[2, :, :, :]\n",
        "  loss = loss + content_weight*content_loss(base_image_features, combination_features)\n",
        " \n",
        "  for layer_name in style_layer_names:\n",
        "    layer_features = features[layer_name]\n",
        "    style_reference_features = layer_features[1, :, :, :]\n",
        "    combination_features = layer_features[2, :, :, :]\n",
        "    style_loss_value = style_loss(style_reference_features, combination_features)\n",
        "    loss += (style_weight / len(style_layer_names)) * style_loss_value\n",
        "\n",
        "  loss += total_variation_weight * total_variation_loss(combination_image)\n",
        "  return loss"
      ],
      "metadata": {
        "id": "SYEn28XP2aNF"
      },
      "execution_count": null,
      "outputs": []
    },
    {
      "cell_type": "code",
      "source": [
        "paths = [\"/content/marilyn.jpg\", \"/content/drive/MyDrive/Monet_GAN_Images/Generated/luana_alex_popart_2210.png\"]\n",
        "new_width  = 900\n",
        "new_height = 1600\n",
        "img_width = 900\n",
        "img_height = 1600\n",
        "\n",
        "i = 0\n",
        "for path in paths:\n",
        "  img = Image.open(path) # image extension *.png,*.jpg\n",
        "  img = img.resize((new_height, new_width), Image.ANTIALIAS).rotate(0)\n",
        "  img.save(f\"img_{i}.jpg\")\n",
        "  i += 1\n",
        "\n",
        "# Add the paths to the images here\n",
        "base_image_path = \"/content/img_1.jpg\"\n",
        "style_reference_image_path = \"/content/img_0.jpg\""
      ],
      "metadata": {
        "id": "dEdb7w1TGDgN"
      },
      "execution_count": null,
      "outputs": []
    },
    {
      "cell_type": "code",
      "source": [
        "@tf.function\n",
        "def compute_loss_and_grads(\n",
        "    combination_image, \n",
        "    base_image, \n",
        "    style_reference_image,\n",
        "    root_dir,\n",
        "    ):\n",
        "  with tf.GradientTape() as tape:\n",
        "    loss = compute_loss(combination_image, base_image, style_reference_image)\n",
        "    grads = tape.gradient(loss, combination_image)\n",
        "    return loss, grads\n",
        "  \n",
        "optimizer = tf.keras.optimizers.SGD(tf.keras.optimizers.schedules.ExponentialDecay(initial_learning_rate = 150.0, decay_steps = 1000, decay_rate = 0.98))\n",
        "\n",
        "base_image = preprocess_img(base_image_path)\n",
        "style_reference_image = preprocess_img(style_reference_image_path)\n",
        "combination_image = tf.Variable(preprocess_img(base_image_path))\n",
        "\n",
        "iterations = 4005\n",
        "for i in range(1, iterations + 1):\n",
        "  loss, grads = compute_loss_and_grads(combination_image, base_image, style_reference_image)\n",
        "  optimizer.apply_gradients([(grads, combination_image)])\n",
        "  img = deprocess_img(combination_image.numpy())   \n",
        "  if i % 10 == 0:\n",
        "    path = path + str(i) + \".png\"\n",
        "    tf.keras.utils.save_img(path, img)\n",
        "    print(f\"Iterations {i}: loss = {loss: .2f}\")"
      ],
      "metadata": {
        "id": "g4QrX4F-nifE"
      },
      "execution_count": null,
      "outputs": []
    },
    {
      "cell_type": "code",
      "source": [
        "img_height  = 256\n",
        "img_width = 256\n",
        "\n",
        "photo_paths = []\n",
        "monet_paths = []\n",
        "\n",
        "for file in os.listdir(\"/content/drive/MyDrive/Monet_GAN_Images/Photos/\"):\n",
        "  photo_paths.append(file)\n",
        "\n",
        "for file in os.listdir(\"/content/drive/MyDrive/Monet_GAN_Images/Monet/\"):\n",
        "  monet_paths.append(file)"
      ],
      "metadata": {
        "id": "N5tZbxIas5PC"
      },
      "execution_count": null,
      "outputs": []
    },
    {
      "cell_type": "code",
      "source": [
        "img_height  = 256\n",
        "img_width = 256"
      ],
      "metadata": {
        "id": "-9PpztgLzEMX"
      },
      "execution_count": null,
      "outputs": []
    },
    {
      "cell_type": "code",
      "source": [
        "for photo in photo_paths:\n",
        "  base_image_path = os.path.join(\"/content/drive/MyDrive/Monet_GAN_Images/Photos/\", photo)\n",
        "  monet_choice = random.choice(monet_paths)\n",
        "  style_reference_image_path = \"/content/drive/MyDrive/Monet_GAN_Images/Monet/\" + monet_choice\n",
        "  \n",
        "  photo_name = photo.split(\".\")[0]\n",
        "  monet_name = monet_choice.split(\".\")[0]\n",
        "\n",
        "  @tf.function\n",
        "  def compute_loss_and_grads(combination_image, base_image, style_reference_image):\n",
        "    with tf.GradientTape() as tape:\n",
        "      loss = compute_loss(combination_image, base_image, style_reference_image)\n",
        "      grads = tape.gradient(loss, combination_image)\n",
        "      return loss, grads\n",
        "    \n",
        "  optimizer = tf.keras.optimizers.SGD(tf.keras.optimizers.schedules.ExponentialDecay(initial_learning_rate = 100.0, decay_steps = 200, decay_rate = 0.96))\n",
        "\n",
        "  base_image = preprocess_img(base_image_path)\n",
        "  style_reference_image = preprocess_img(style_reference_image_path)\n",
        "  combination_image = tf.Variable(preprocess_img(base_image_path))\n",
        "\n",
        "  iterations = 2000\n",
        "  for i in range(1, iterations + 1):\n",
        "    loss, grads = compute_loss_and_grads(combination_image, base_image, style_reference_image)\n",
        "    optimizer.apply_gradients([(grads, combination_image)])\n",
        "    if i % 100 == 0:\n",
        "      print(f\"Iterations {i}: loss = {loss: .2f}\")\n",
        "    if i % 2000 == 0:\n",
        "      img = deprocess_img(combination_image.numpy())\n",
        "      path = f\"/content/drive/MyDrive/Monet_GAN_Images/Generated/monet_style_transfer_{photo_name}_{monet_name}_{i%1000}.png\"\n",
        "      tf.keras.utils.save_img(path, img)"
      ],
      "metadata": {
        "id": "yUwwJ75w7bBt"
      },
      "execution_count": null,
      "outputs": []
    }
  ]
}